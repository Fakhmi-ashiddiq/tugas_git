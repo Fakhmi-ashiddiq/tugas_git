{
 "cells": [
  {
   "cell_type": "code",
   "execution_count": 1,
   "metadata": {},
   "outputs": [],
   "source": [
    "data_panen = {\n",
    "    'lokasi1': {\n",
    "        'nama_lokasi': 'Kebun A',\n",
    "        'hasil_panen': {\n",
    "            'padi': 1200,\n",
    "            'jagung': 800,\n",
    "            'kedelai': 500\n",
    "        }\n",
    "    },\n",
    "    'lokasi2': {\n",
    "        'nama_lokasi': 'Kebun B',\n",
    "        'hasil_panen': {\n",
    "            'padi': 1500,\n",
    "            'jagung': 900,\n",
    "            'kedelai': 450\n",
    "        }\n",
    "    },\n",
    "    'lokasi3': {\n",
    "        'nama_lokasi': 'Kebun C',\n",
    "        'hasil_panen': {\n",
    "            'padi': 1100,\n",
    "            'jagung': 700,\n",
    "            'kedelai': 600\n",
    "        }\n",
    "    },\n",
    "    'lokasi4': {\n",
    "        'nama_lokasi': 'Kebun D',\n",
    "        'hasil_panen': {\n",
    "            'padi': 1300,\n",
    "            'jagung': 850,\n",
    "            'kedelai': 550\n",
    "        }\n",
    "    },\n",
    "    'lokasi5': {\n",
    "        'nama_lokasi': 'Kebun E',\n",
    "        'hasil_panen': {\n",
    "            'padi': 1400,\n",
    "            'jagung': 950,\n",
    "            'kedelai': 480\n",
    "        }\n",
    "    }\n",
    "}"
   ]
  },
  {
   "cell_type": "code",
   "execution_count": null,
   "metadata": {},
   "outputs": [],
   "source": [
    "#1\n",
    "for lokasi, info in data_panen.items():\n",
    "    print(f\"Nama Lokasi: {info['nama_lokasi']}\")\n",
    "    print(\"Hasil Panen:\")\n",
    "    for tanaman, jumlah in info['hasil_panen'].items():\n",
    "        print(f\"  {tanaman}: {jumlah}\")\n",
    "    print(\"\")"
   ]
  },
  {
   "cell_type": "code",
   "execution_count": null,
   "metadata": {},
   "outputs": [],
   "source": [
    "#2\n",
    "jagung_lokasi2 = data_panen['lokasi2']['hasil_panen']['jagung']\n",
    "print(\"Jumlah hasil panen jagung dari lokasi2:\", jagung_lokasi2)"
   ]
  },
  {
   "cell_type": "code",
   "execution_count": null,
   "metadata": {},
   "outputs": [],
   "source": [
    "#3\n",
    "nama_lokasi3 = data_panen['lokasi3']['nama_lokasi']\n",
    "print(\"Nama lokasi dari lokasi3:\", nama_lokasi3)"
   ]
  },
  {
   "cell_type": "code",
   "execution_count": null,
   "metadata": {},
   "outputs": [],
   "source": [
    "#4\n",
    "hasil_panen_padi = {}\n",
    "hasil_panen_kedelai = {}\n",
    "\n",
    "for lokasi, info in data_panen.items():\n",
    "    hasil_panen_padi[lokasi] = info['hasil_panen']['padi']\n",
    "    hasil_panen_kedelai[lokasi] = info['hasil_panen']['kedelai']\n",
    "\n",
    "print(\"Jumlah Hasil Panen Padi Setiap Lokasi:\")\n",
    "for lokasi, jumlah in hasil_panen_padi.items():\n",
    "    print(f\"{data_panen[lokasi]['nama_lokasi']}: {jumlah}\")\n",
    "\n",
    "print(\"\\nJumlah Hasil Panen Kedelai Setiap Lokasi:\")\n",
    "for lokasi, jumlah in hasil_panen_kedelai.items():\n",
    "    print(f\"{data_panen[lokasi]['nama_lokasi']}: {jumlah}\")\n"
   ]
  },
  {
   "cell_type": "code",
   "execution_count": null,
   "metadata": {},
   "outputs": [],
   "source": [
    "#5\n",
    "padi_lokasi1 = data_panen['lokasi1']['hasil_panen']['padi']\n",
    "kedelai_lokasi1 = data_panen['lokasi1']['hasil_panen']['kedelai']\n",
    "\n",
    "padi_lokasi2 = data_panen['lokasi2']['hasil_panen']['padi']\n",
    "kedelai_lokasi2 = data_panen['lokasi2']['hasil_panen']['kedelai']\n",
    "\n",
    "padi_lokasi3 = data_panen['lokasi3']['hasil_panen']['padi']\n",
    "kedelai_lokasi3 = data_panen['lokasi3']['hasil_panen']['kedelai']\n",
    "\n",
    "padi_lokasi4 = data_panen['lokasi4']['hasil_panen']['padi']\n",
    "kedelai_lokasi4 = data_panen['lokasi4']['hasil_panen']['kedelai']\n",
    "\n",
    "padi_lokasi5 = data_panen['lokasi5']['hasil_panen']['padi']\n",
    "kedelai_lokasi5 = data_panen['lokasi5']['hasil_panen']['kedelai']\n",
    "\n",
    "print(\"\\nJumlah Hasil Panen Padi dan Kedelai per Lokasi:\")\n",
    "print(f\"Lokasi 1 (Kebun A) - Padi: {padi_lokasi1}, Kedelai: {kedelai_lokasi1}\")\n",
    "print(f\"Lokasi 2 (Kebun B) - Padi: {padi_lokasi2}, Kedelai: {kedelai_lokasi2}\")\n",
    "print(f\"Lokasi 3 (Kebun C) - Padi: {padi_lokasi3}, Kedelai: {kedelai_lokasi3}\")\n",
    "print(f\"Lokasi 4 (Kebun D) - Padi: {padi_lokasi4}, Kedelai: {kedelai_lokasi4}\")\n",
    "print(f\"Lokasi 5 (Kebun E) - Padi: {padi_lokasi5}, Kedelai: {kedelai_lokasi5}\")\n"
   ]
  },
  {
   "cell_type": "code",
   "execution_count": null,
   "metadata": {},
   "outputs": [],
   "source": [
    "#6\n",
    "for lokasi, info in data_panen.items():\n",
    "    padi = info['hasil_panen']['padi']\n",
    "    jagung = info['hasil_panen']['jagung']\n",
    "    \n",
    "    if padi > 1300 or jagung > 800:\n",
    "        print(f\"Lokasi {info['nama_lokasi']} memerlukan perhatian khusus.\")\n",
    "    else:\n",
    "        print(f\"Lokasi {info['nama_lokasi']} dalam kondisi baik.\")"
   ]
  },
  {
   "cell_type": "code",
   "execution_count": null,
   "metadata": {},
   "outputs": [],
   "source": [
    "#7 Push kedalam GIT"
   ]
  }
 ],
 "metadata": {
  "kernelspec": {
   "display_name": "Python 3",
   "language": "python",
   "name": "python3"
  },
  "language_info": {
   "codemirror_mode": {
    "name": "ipython",
    "version": 3
   },
   "file_extension": ".py",
   "mimetype": "text/x-python",
   "name": "python",
   "nbconvert_exporter": "python",
   "pygments_lexer": "ipython3",
   "version": "3.12.7"
  }
 },
 "nbformat": 4,
 "nbformat_minor": 2
}
